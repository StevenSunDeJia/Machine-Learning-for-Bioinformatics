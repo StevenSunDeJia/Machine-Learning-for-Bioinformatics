{
  "cells": [
    {
      "cell_type": "markdown",
      "metadata": {
        "id": "EFVgkIGglfux"
      },
      "source": [
        "# Assignment Two &mdash; CSI 5180: Machine Learning for Bioinformatics\n",
        "\n",
        "**Student Name:** Steven Sun  \n",
        "**Student ID:** 300067541"
      ]
    },
    {
      "cell_type": "markdown",
      "source": [
        "# Variables, Parameters, and Hyperparameters for Changing the Behaviour and Outputs of Traditional Machine Learning (Sections Prior to CNN)\n",
        "* Please read this markdown cell for generating all possible outputs required for marking this assignment.\n",
        "* In **Standard Data Partitioning, Training and Testing**\n",
        "  * Inside the function ```do_classification(X, y)```\n",
        "    * Choose either ```class_rebalance_methods``` or ```best_rebalance_method``` in ```for i, func in enumerate(best_rebalance_method)```\n",
        "    ```\n",
        "    class_rebalance_methods = [baseline_experiment, weight_adjustment, random_oversampling]\n",
        "    best_rebalance_method = [random_oversampling]\n",
        "    ```\n",
        "    * The following variables toggle the training and validation process:\n",
        "    ```\n",
        "    search_for_best_params = True\n",
        "    train_and_test = True\n",
        "    ```\n",
        "    ```\n",
        "    # Must run only one machine learning algorithm at a time\n",
        "    # Not Two\n",
        "    l_r = True\n",
        "    r_f = not l_r\n",
        "    ```\n",
        "* In **Run All Cells for Traditional Machine Learning**\n",
        "  * ```run = False``` toggles the execution\n",
        "  * Examine the loop ```for run in [2]: # To use all 3 runs, try [0, 1, 2]```\n",
        "    * ```[0, 1, 2]``` will run all three datasets\n",
        "    * These variables decide which ```k``` value to run.\n",
        "    ```\n",
        "        min_k = 2\n",
        "        max_k = 6\n",
        "        best_k = 4\n",
        "        for i in range(min_k, max_k+1):\n",
        "    ```"
      ],
      "metadata": {
        "id": "k0eggHjhVjDy"
      }
    },
    {
      "cell_type": "markdown",
      "metadata": {
        "id": "wVygNBvMlsAa"
      },
      "source": [
        "# Loading the Dataset\n",
        "* Based on Marcel's Assignment 1 - Draft Solution"
      ]
    },
    {
      "cell_type": "code",
      "execution_count": 1,
      "metadata": {
        "id": "2IES_YlFlnKk"
      },
      "outputs": [],
      "source": [
        "import requests\n",
        "from typing import List\n",
        "\n",
        "class FASTAError(Exception):\n",
        "    \"\"\"Custom exception for errors encountered while processing FASTA data.\"\"\"\n",
        "    pass\n",
        "\n",
        "def load_fasta_from_url(url: str) -> List[str]:\n",
        "    \"\"\"Fetches a FASTA file from a URL in a (somehow) memory-efficient way and returns a list of sequence strings.\n",
        "\n",
        "    Raises:\n",
        "        ConnectionError: If there is an issue fetching data from the URL.\n",
        "        FASTAError: If the retrieved file is empty or does not contain valid FASTA data.\n",
        "    \"\"\"\n",
        "    try:\n",
        "        response = requests.get(url, stream=True, timeout=10)\n",
        "        response.raise_for_status()\n",
        "    except requests.RequestException as e:\n",
        "        raise ConnectionError(f\"Error fetching URL {url}: {e}\") from e\n",
        "\n",
        "    sequences = []\n",
        "    seq = \"\"\n",
        "    has_data = False  # To check if we read any content\n",
        "    # Process the response line by line to avoid loading the entire file into memory.\n",
        "    for line in response.iter_lines(decode_unicode=True):\n",
        "        if line is None:\n",
        "            continue\n",
        "        stripped_line = line.strip()\n",
        "        if not stripped_line:\n",
        "            continue  # Skip empty lines\n",
        "        has_data = True\n",
        "        if stripped_line.startswith(\">\"):\n",
        "            if seq:\n",
        "                sequences.append(seq)\n",
        "                seq = \"\"\n",
        "        else:\n",
        "            seq += stripped_line\n",
        "    if seq:\n",
        "        sequences.append(seq)\n",
        "\n",
        "    if not has_data:\n",
        "        raise FASTAError(\"The retrieved file is empty or not in FASTA format.\")\n",
        "    if not sequences:\n",
        "        raise FASTAError(\"No valid sequence data found in the FASTA file.\")\n",
        "\n",
        "    return sequences"
      ]
    },
    {
      "cell_type": "markdown",
      "metadata": {
        "id": "rMAsEPUxqoWq"
      },
      "source": [
        "# Data Encoding\n",
        "* Based on Marcel's Assignment 1 - Draft Solution"
      ]
    },
    {
      "cell_type": "code",
      "execution_count": 2,
      "metadata": {
        "id": "9qmltkqqqsRn"
      },
      "outputs": [],
      "source": [
        "import itertools\n",
        "import numpy as np\n",
        "\n",
        "def kmer_encode(seq: str, k_value: int = 4, one_hot_encoding = False) -> np.ndarray:\n",
        "\n",
        "    \"\"\"\n",
        "    Encodes a nucleotide sequence into a normalized kmer frequency vector.\n",
        "\n",
        "    Parameters:\n",
        "        seq (str): Input nucleotide sequence. Only characters A, C, G, T (case-insensitive) are counted.\n",
        "        k_value (int): Length of kmers to generate. Must be a positive integer and no greater than len(seq).\n",
        "\n",
        "    Returns:\n",
        "        np.ndarray: A normalized frequency vector. Each element corresponds to a kmer, ordered lexicographically\n",
        "                    based on the product of 'ACGT' repeated k_value times.\n",
        "\n",
        "    Raises:\n",
        "        TypeError: If seq is not a string.\n",
        "        ValueError: If k_value is not a positive integer or if seq is shorter than k_value.\n",
        "    \"\"\"\n",
        "\n",
        "    # Validate input types and values.\n",
        "    if not isinstance(seq, str):\n",
        "        raise TypeError(\"The sequence must be a string.\")\n",
        "    if not isinstance(k_value, int) or k_value <= 0:\n",
        "        raise ValueError(\"k_value must be a positive integer.\")\n",
        "    if len(seq) < k_value:\n",
        "        raise ValueError(\"Sequence length must be at least as long as k_value.\")\n",
        "\n",
        "    # Generate all possible kmers of the given length in lexicographic order.\n",
        "    kmers = [''.join(p) for p in itertools.product('ACGT', repeat=k_value)]\n",
        "    kmer_idx = {kmer: idx for idx, kmer in enumerate(kmers)}\n",
        "\n",
        "    # Convert sequence to uppercase to ensure uniformity.\n",
        "    seq = seq.upper()\n",
        "\n",
        "    # Calculate the number of sliding windows.\n",
        "    total_windows = len(seq) - k_value + 1\n",
        "    # Initialize a frequency vector with zeros.\n",
        "    vec = np.zeros(len(kmers), dtype=float)\n",
        "\n",
        "    # Slide through the sequence one kmer at a time.\n",
        "    for i in range(total_windows):\n",
        "        kmer = seq[i:i+k_value]\n",
        "        # Count the kmer only if it contains valid nucleotide characters.\n",
        "        if all(base in 'ACGT' for base in kmer):\n",
        "            vec[kmer_idx[kmer]] += 1\n",
        "\n",
        "    # Normalize the vector by the total number of windows.\n",
        "    vec /= total_windows\n",
        "    return vec"
      ]
    },
    {
      "cell_type": "markdown",
      "metadata": {
        "id": "2_A3bKuLf2d_"
      },
      "source": [
        "# Addressing Class Imbalance\n",
        "1. Baseline Experiment\n",
        "2. Class Weight Adjustment\n",
        "3. Random Oversampling\n",
        "\n",
        "Each experiment returns a distinct reformulation of ```X_train```, ```_y_train```, and the ```class_imbalanace``` parameter."
      ]
    },
    {
      "cell_type": "markdown",
      "metadata": {
        "id": "H5HOaxJoiz2Q"
      },
      "source": [
        "## Baseline Experiment"
      ]
    },
    {
      "cell_type": "code",
      "execution_count": 3,
      "metadata": {
        "id": "2fbFO4SWP9Zp"
      },
      "outputs": [],
      "source": [
        "def baseline_experiment(X_train, y_train):\n",
        "    return X_train, y_train, None"
      ]
    },
    {
      "cell_type": "markdown",
      "metadata": {
        "id": "SnIxockwi39R"
      },
      "source": [
        "## Class Weight Adjustment"
      ]
    },
    {
      "cell_type": "code",
      "execution_count": 4,
      "metadata": {
        "id": "gl4GI895P_ib"
      },
      "outputs": [],
      "source": [
        "def weight_adjustment(X_train, y_train):\n",
        "    return X_train, y_train, \"balanced\""
      ]
    },
    {
      "cell_type": "markdown",
      "metadata": {
        "id": "-jCXMxudi7ah"
      },
      "source": [
        "## Random Oversampling"
      ]
    },
    {
      "cell_type": "code",
      "execution_count": 5,
      "metadata": {
        "id": "TgHPxxIoQWPc"
      },
      "outputs": [],
      "source": [
        "from imblearn.over_sampling import RandomOverSampler\n",
        "\n",
        "def random_oversampling(X_train, y_train):\n",
        "    ros = RandomOverSampler(random_state=42)\n",
        "    X_train_resampled, y_train_resampled = ros.fit_resample(X_train, y_train)\n",
        "    return X_train_resampled, y_train_resampled, None"
      ]
    },
    {
      "cell_type": "markdown",
      "metadata": {
        "id": "5ltmaIDmZ1qA"
      },
      "source": [
        "# Cross-Validation Scores"
      ]
    },
    {
      "cell_type": "code",
      "execution_count": 6,
      "metadata": {
        "id": "OywpLh0TaHV3"
      },
      "outputs": [],
      "source": [
        "from sklearn.model_selection import GridSearchCV\n",
        "\n",
        "def show_cross_validation_scores(X_train, y_train, i, func, param_grid, search_for_best_params, model_type):\n",
        "\n",
        "    print(f\"Running function {i}: {func.__name__}\")\n",
        "    X_train, y_train, class_weight = func(X_train, y_train)\n",
        "\n",
        "    clf = None\n",
        "\n",
        "    if model_type == \"l_r\":\n",
        "        clf = LogisticRegression(random_state=42, class_weight=class_weight) #Logistic Regression\n",
        "    elif model_type == \"r_f\":\n",
        "        clf = RandomForestClassifier(random_state=42) #Random Forest\n",
        "\n",
        "    # Define custom scorers\n",
        "    balanced_acc = make_scorer(balanced_accuracy_score)\n",
        "    f1_macro = make_scorer(f1_score, average='macro')\n",
        "\n",
        "    # Stratified 10-Fold CV\n",
        "    cv = StratifiedKFold(n_splits=10)\n",
        "    balanced_acc_scores = cross_val_score(clf, X_train, y_train, cv=cv, scoring=balanced_acc)\n",
        "    f1_macro_scores = cross_val_score(clf, X_train, y_train, cv=cv, scoring=f1_macro)\n",
        "\n",
        "    # Print results\n",
        "    print(\"Cross-validation scores for the model: \", model_type)\n",
        "    print(\"Balanced Accuracy: Mean =\", balanced_acc_scores.mean(), \", Std =\", balanced_acc_scores.std())\n",
        "    print(\"Macro F1 Score:     Mean =\", f1_macro_scores.mean(), \", Std =\", f1_macro_scores.std())\n",
        "    print()\n",
        "\n",
        "    if search_for_best_params:\n",
        "        grid_search = GridSearchCV(clf, param_grid, cv=cv)\n",
        "        grid_search.fit(X_train, y_train)\n",
        "\n",
        "        clf = grid_search.best_estimator_  # update clf to the best one\n",
        "        best_params = grid_search.best_params_\n",
        "        clf = best_params\n",
        "\n",
        "        print(\"Best Params:\", best_params)\n",
        "        print(\"Best CV Score:\", grid_search.best_score_)\n",
        "        print()\n",
        "\n",
        "    return clf, X_train, y_train, class_weight\n"
      ]
    },
    {
      "cell_type": "markdown",
      "metadata": {
        "id": "Z1V8gqkEc-ZO"
      },
      "source": [
        "# Train and Evaluate Model"
      ]
    },
    {
      "cell_type": "code",
      "execution_count": 7,
      "metadata": {
        "id": "a2Z8JzuKb7Zc"
      },
      "outputs": [],
      "source": [
        "def train_and_evaluate_model(clf, X_train, y_train, X_test, y_test, class_weight, search_for_best_params, model_type):\n",
        "\n",
        "    if search_for_best_params:\n",
        "        if model_type == \"l_r\":\n",
        "            clf = LogisticRegression(**clf, random_state=42, class_weight=class_weight) #Logistic Regression\n",
        "        elif model_type == \"r_f\":\n",
        "            clf = RandomForestClassifier(**clf, random_state=42) #Random Forest Classifier\n",
        "        clf.fit(X_train, y_train)\n",
        "\n",
        "    else:\n",
        "        clf.fit(X_train, y_train)\n",
        "\n",
        "    y_pred = clf.predict(X_test)\n",
        "\n",
        "    print(classification_report(y_test, y_pred))\n",
        "\n",
        "    cm = confusion_matrix(y_test, y_pred)\n",
        "\n",
        "    sns.heatmap(cm, annot=True, fmt='d', cmap='Blues')\n",
        "    plt.title(f'Confusion Matrix')\n",
        "    plt.xlabel('Predicted')\n",
        "    plt.ylabel('Actual')\n",
        "    plt.show()\n",
        "    print()"
      ]
    },
    {
      "cell_type": "markdown",
      "metadata": {
        "id": "brJwb-fRNpIi"
      },
      "source": [
        "# Standard Data Partitioning, Training and Testing"
      ]
    },
    {
      "cell_type": "code",
      "execution_count": 8,
      "metadata": {
        "id": "z-E1yS4HNveY"
      },
      "outputs": [],
      "source": [
        "from sklearn.model_selection import train_test_split, StratifiedKFold\n",
        "\n",
        "from sklearn.linear_model import LogisticRegression\n",
        "from sklearn.ensemble import RandomForestClassifier\n",
        "from sklearn.metrics import classification_report, confusion_matrix, make_scorer, balanced_accuracy_score, f1_score\n",
        "\n",
        "from sklearn.preprocessing import StandardScaler\n",
        "\n",
        "import matplotlib.pyplot as plt\n",
        "import seaborn as sns\n",
        "\n",
        "from sklearn.model_selection import cross_val_score\n",
        "\n",
        "def do_classification(X, y):\n",
        "\n",
        "    # Class Rebalance Methods\n",
        "    class_rebalance_methods = [baseline_experiment, weight_adjustment, random_oversampling]\n",
        "    best_rebalance_method = [random_oversampling]\n",
        "\n",
        "    # Logistic Regression Hyperparameter Grid\n",
        "    lr_param_grid = {'penalty': [\"l2\", None],\n",
        "                     'solver' : ['newton-cg', 'lbfgs'],\n",
        "                     'max_iter' : [500, 1000, 2000]}\n",
        "\n",
        "    # Random Forest Hyperparameter Grid\n",
        "    rf_param_grid = {'max_depth': range(2, 4),\n",
        "                     'criterion': [\"gini\", \"entropy\", \"log_loss\"]}\n",
        "\n",
        "    search_for_best_params = True\n",
        "    train_and_test = True\n",
        "\n",
        "    # Must run only one machine learning algorithm at a time\n",
        "    # NOT two\n",
        "    l_r = True\n",
        "    r_f = not l_r\n",
        "\n",
        "    # Run three distinct approaches to address data imbalance\n",
        "    for i, func in enumerate(best_rebalance_method): # The best rebalance method was chosen\n",
        "\n",
        "        X_train, X_test, y_train, y_test = train_test_split(X, y, test_size=0.20, stratify=y, random_state=42)\n",
        "\n",
        "        scaler = StandardScaler()\n",
        "        X_train = scaler.fit_transform(X_train)\n",
        "        X_test = scaler.transform(X_test)\n",
        "\n",
        "        # for approach i, run function i\n",
        "        if l_r:\n",
        "            clf, X_train, y_train, class_weight = show_cross_validation_scores(X_train, y_train, i, func, lr_param_grid, search_for_best_params, \"l_r\")\n",
        "        elif r_f:\n",
        "            clf, X_train, y_train, class_weight = show_cross_validation_scores(X_train, y_train, i, func, rf_param_grid, search_for_best_params, \"r_f\")\n",
        "\n",
        "        if train_and_test and l_r:\n",
        "            train_and_evaluate_model(clf, X_train, y_train, X_test, y_test, class_weight, search_for_best_params, \"l_r\")\n",
        "        elif train_and_test and r_f:\n",
        "            train_and_evaluate_model(clf, X_train, y_train, X_test, y_test, class_weight, search_for_best_params, \"r_f\")"
      ]
    },
    {
      "cell_type": "markdown",
      "metadata": {
        "id": "wFMBXKPxd6At"
      },
      "source": [
        "# Determining the best ```k```\n",
        "* Based on Marcel's Assignment 1 - Draft Solution"
      ]
    },
    {
      "cell_type": "code",
      "execution_count": 9,
      "metadata": {
        "id": "lFtMjBhvd5Z6"
      },
      "outputs": [],
      "source": [
        "def determine_best_k(k):\n",
        "\n",
        "    X_pos = np.array([kmer_encode(seq, k) for seq in pos_seqs])\n",
        "    X_neg = np.array([kmer_encode(seq, k) for seq in neg_seqs])\n",
        "\n",
        "    X = np.vstack([X_pos, X_neg])\n",
        "    y = np.concatenate((np.ones(len(X_pos)), np.zeros(len(X_neg))))  # label 1 for promoters, 0 for non-promoters\n",
        "\n",
        "    print(\"K-mer feature vector length:\", X.shape[1])\n",
        "    print(\"Feature vector example (first positive sequence):\")\n",
        "    print(X[0][:5], \"...\")\n",
        "    print()\n",
        "\n",
        "    do_classification(X, y)"
      ]
    },
    {
      "cell_type": "markdown",
      "metadata": {
        "id": "OWHlXHsnn6Jp"
      },
      "source": [
        "# Run All Cells for Traditional Machine Learning\n",
        "* Based on Marcel's Assignment 1 - Draft Solution"
      ]
    },
    {
      "cell_type": "code",
      "execution_count": 10,
      "metadata": {
        "id": "s0cGntRsnZxI"
      },
      "outputs": [],
      "source": [
        "# URLs to raw FASTA files on GitHub\n",
        "\n",
        "BASE_URL = \"https://raw.githubusercontent.com/solovictor/CNNPromoterData/refs/heads/master/\"\n",
        "\n",
        "runs = [[\"Arabidopsis_tata.fa\", \"Arabidopsis_non_prom_big.fa\"],\n",
        "        [\"Arabidopsis_non_tata.fa\", \"Arabidopsis_non_prom_big.fa\"],\n",
        "        [\"Arabidopsis_tata + Arabidopsis_non_tata\", \"Arabidopsis_non_prom_big.fa\"]]\n",
        "\n",
        "run = False\n",
        "\n",
        "if run:\n",
        "    for run in [2]: # To use all 3 runs, try [0, 1, 2]\n",
        "\n",
        "        print()\n",
        "        print()\n",
        "        print(\"Experiment:\", runs[run][0])\n",
        "\n",
        "        # Load sequences from each file\n",
        "\n",
        "        pos_seqs = []\n",
        "        neg_seqs = []\n",
        "\n",
        "        if run == 2:\n",
        "            pos_seqs_tata = load_fasta_from_url(BASE_URL + runs[0][0])\n",
        "            pos_seqs_non_tata = load_fasta_from_url(BASE_URL + runs[1][0])\n",
        "            pos_seqs = pos_seqs_tata + pos_seqs_non_tata\n",
        "            neg_seqs = load_fasta_from_url(BASE_URL + runs[run][1])\n",
        "        else:\n",
        "            pos_seqs = load_fasta_from_url(BASE_URL + runs[run][0])\n",
        "            neg_seqs = load_fasta_from_url(BASE_URL + runs[run][1])\n",
        "\n",
        "        print(f\"Loaded {len(pos_seqs)} ({len(pos_seqs)/(len(pos_seqs)+len(neg_seqs))*100:.1f}%) positive \\\n",
        "        sequences and {len(neg_seqs)} ({len(neg_seqs)/(len(pos_seqs)+len(neg_seqs))*100:.1f}%) negative sequences.\")\n",
        "\n",
        "        print(\"Example positive sequence:\", pos_seqs[0][:50], \"...\")\n",
        "        print(\"Example negative sequence:\", neg_seqs[0][:50], \"...\")\n",
        "\n",
        "        min_k = 2\n",
        "        max_k = 6\n",
        "        best_k = 4\n",
        "        for i in range(best_k, best_k+1):\n",
        "\n",
        "            print()\n",
        "            print(\"k = \", i)\n",
        "            print()\n",
        "            determine_best_k(i)"
      ]
    },
    {
      "cell_type": "markdown",
      "metadata": {
        "id": "SuBRtItJw1D6"
      },
      "source": [
        "# Discussion\n",
        "\n",
        "## Class Imbalance Mitigation Methods for All Three Datasets\n",
        "* When positive = ‘Arabidopsis_tata.fa’, negative = ‘Arabidopsis_non_prom_big.fa’, the testing macro average score was good at ~ 0.84. When positive = ‘Arabidopsis_non_tata.fa’, negative = ‘Arabidopsis_non_prom_big.fa’, the testing macro average was very good at ~ 0.90. When positive = ‘Arabidopsis_tata.fa’ + ‘Arabidopsis_non_tata.fa’, negative = ‘Arabidopsis_non_prom_big.fa’, the testing macro average was excellent at ~ 0.91.\n",
        "* If I evaluate the effectiveness of the class imbalance mitigation method independent of the dataset, the cross-validation macro f1 score was the highest when the random oversampling was employed.\n",
        "* Consequently, empirical results suggest me to use ```RandomOverSampler``` to find best ```k```.\n",
        "\n",
        "## Finding the best ```k```\n",
        "* From the results obtained by cross-validation, balanced accuracy and the macro-averaged f1 score increase as ```k``` increases, from 2 to 6.\n",
        "* However, the testing macro-average f1 peaked at ```k``` = 4, suggesting that the best ```k``` is indeed 4.\n",
        "\n",
        "## Hyperparameter Optimization\n",
        "* Using ```RandomOverSampler``` and ```k``` = 4, and a hyperparameter grid specified below for logistic regression and random forest:\n",
        "```\n",
        "# Logistic Regression Hyperparameter Grid\n",
        "    lr_param_grid = {'penalty': [\"l2\", None],\n",
        "                     'solver' : ['newton-cg', 'lbfgs'],\n",
        "                     'max_iter' : [500, 1000, 2000]}\n",
        "```\n",
        "```\n",
        "# Random Forest Hyperparameter Grid\n",
        "    rf_param_grid = {'max_depth': range(1, 10),\n",
        "                     'criterion': [\"gini\", \"entropy\", \"log_loss\"]}\n",
        "```\n",
        "\n",
        "* The results are as follows for logistic regression:\n",
        "```\n",
        "Cross-validation scores for the model:  l_r\n",
        "Balanced Accuracy:  Mean = 0.9158411828013314 , Std = 0.007080918705189352\n",
        "Macro F1 Score:     Mean = 0.9158329921072974 , Std = 0.007082918226591573\n",
        "```\n",
        "```\n",
        "Best Params: {'max_iter': 500, 'penalty': 'l2', 'solver': 'newton-cg'}\n",
        "Best CV Score: 0.9161132003181702\n",
        "```\n",
        "```\n",
        "              precision    recall  f1-score   support\n",
        "\n",
        "         0.0        0.95      0.91      0.93      2292\n",
        "         1.0        0.87      0.93      0.90      1481\n",
        "    accuracy                            0.92      3773\n",
        "   macro avg        0.91      0.92      0.91      3773\n",
        "weighted avg      0.92      0.92      0.92      3773\n",
        "```\n",
        "* The results are as follows for random forest:\n",
        "```\n",
        "Cross-validation scores for the model:  r_f\n",
        "Balanced Accuracy:  Mean = 0.9325940031334378 , Std = 0.017385501238222256\n",
        "Macro F1 Score:     Mean = 0.9325595163301251 , Std = 0.01734288191285531\n",
        "```\n",
        "```\n",
        "Best Params: {'criterion': 'gini', 'max_depth': 3}\n",
        "Best CV Score: 0.8665328364451315\n",
        "```\n",
        "```\n",
        "            precision    recall  f1-score   support\n",
        "\n",
        "         0.0       0.92      0.86      0.89      2292\n",
        "         1.0       0.80      0.88      0.84      1481\n",
        "\n",
        "    accuracy                           0.87      3773\n",
        "   macro avg       0.86      0.87      0.86      3773\n",
        "weighted avg     0.87      0.87      0.87      3773\n",
        "```\n",
        "The macro-average f1 score is higher when logistic regression is used over random forest on the testing dataset."
      ]
    },
    {
      "cell_type": "markdown",
      "source": [
        "# Preparing for Deep Learning\n",
        "\n"
      ],
      "metadata": {
        "id": "njF0eSFFN6Ng"
      }
    },
    {
      "cell_type": "markdown",
      "source": [
        "## Load and obtain the third *sequence* dataset"
      ],
      "metadata": {
        "id": "tubWEPdKO_90"
      }
    },
    {
      "cell_type": "code",
      "source": [
        "# Load sequences from each file\n",
        "\n",
        "pos_seqs = []\n",
        "neg_seqs = []\n",
        "\n",
        "pos_seqs_tata = load_fasta_from_url(BASE_URL + runs[0][0])\n",
        "pos_seqs_non_tata = load_fasta_from_url(BASE_URL + runs[1][0])\n",
        "pos_seqs = pos_seqs_tata + pos_seqs_non_tata\n",
        "neg_seqs = load_fasta_from_url(BASE_URL + runs[2][1])\n",
        "\n",
        "print(f\"Loaded {len(pos_seqs)} ({len(pos_seqs)/(len(pos_seqs)+len(neg_seqs))*100:.1f}%) positive \\\n",
        "    sequences and {len(neg_seqs)} ({len(neg_seqs)/(len(pos_seqs)+len(neg_seqs))*100:.1f}%) negative sequences.\")\n",
        "\n",
        "print(\"Example positive sequence:\", pos_seqs[0][:50], \"...\")\n",
        "print(\"Example negative sequence:\", neg_seqs[0][:50], \"...\")\n",
        "print(\"Length of a positive sequence:\", len(pos_seqs[0]))\n",
        "print(\"Length of a negative sequence:\", len(neg_seqs[0]))"
      ],
      "metadata": {
        "colab": {
          "base_uri": "https://localhost:8080/"
        },
        "id": "bIaWyNtLOGmY",
        "outputId": "1c8f8293-e6ed-4c90-dfd7-e8ed03b51b56"
      },
      "execution_count": 11,
      "outputs": [
        {
          "output_type": "stream",
          "name": "stdout",
          "text": [
            "Loaded 7402 (39.2%) positive     sequences and 11459 (60.8%) negative sequences.\n",
            "Example positive sequence: CAAGTATCCTACATAGATTATAGGAGTGACCGCAAAAACACAAACTATGT ...\n",
            "Example negative sequence: CATTCTCTCGGACGGCCGTGAATTTTGCGGCAGGATGTGAGACAGCAATG ...\n",
            "Length of a positive sequence: 251\n",
            "Length of a negative sequence: 251\n"
          ]
        }
      ]
    },
    {
      "cell_type": "markdown",
      "source": [
        "## One-Hot Encoding\n",
        "\n",
        "* Based on Marcel's slides on Convolutional Neural Networks"
      ],
      "metadata": {
        "id": "yXznBmrqVHQa"
      }
    },
    {
      "cell_type": "code",
      "source": [
        "from sklearn.preprocessing import OneHotEncoder, LabelEncoder\n",
        "\n",
        "# Define fixed DNA bases\n",
        "bases = ['A', 'C', 'G', 'T']\n",
        "\n",
        "# Pre-fit the LabelEncoder with fixed bases\n",
        "integer_encoder = LabelEncoder()\n",
        "integer_encoder.fit(bases)\n",
        "\n",
        "# Use the fixed integer mapping to define OneHotEncoder categories\n",
        "categories = [integer_encoder.transform(bases)]\n",
        "\n",
        "# For X: One-hot encoder utilizes the label encoder\n",
        "one_hot_encoder = OneHotEncoder(categories=categories)\n",
        "\n",
        "sequences = pos_seqs + neg_seqs\n",
        "\n",
        "y = [1] * len(pos_seqs) + [0] * len(neg_seqs)\n",
        "y = np.array(y).reshape(-1, 1)\n",
        "\n",
        "input_features = []\n",
        "\n",
        "# For X, one-hot encode one sample/sequence at a time\n",
        "for i, sequence in enumerate(sequences):\n",
        "    integer_encoded = integer_encoder.fit_transform(list(sequence))\n",
        "    integer_encoded = np.array(integer_encoded).reshape(-1, 1)\n",
        "\n",
        "    # One-Hot Encode only valid sequences\n",
        "    if all(char in bases for char in sequence):\n",
        "        one_hot_encoded = one_hot_encoder.fit_transform(integer_encoded)\n",
        "        input_features.append(one_hot_encoded.toarray())\n",
        "    # Delete labels associated with invalid sequences\n",
        "    else:\n",
        "        y = np.delete(y, i, axis=0)\n",
        "\n",
        "\n",
        "X = np.stack(input_features)\n",
        "\n",
        "print('One hot encoding of Sequence #1:\\n',X[0].T)\n",
        "print()\n",
        "print('labels:\\n', y.T)\n",
        "print()"
      ],
      "metadata": {
        "colab": {
          "base_uri": "https://localhost:8080/"
        },
        "id": "-pDN-nf2gCvp",
        "outputId": "b6e02498-c0d8-4e51-b1fb-f0085916e1eb"
      },
      "execution_count": 35,
      "outputs": [
        {
          "output_type": "stream",
          "name": "stdout",
          "text": [
            "One hot encoding of Sequence #1:\n",
            " [[0. 1. 1. ... 1. 0. 1.]\n",
            " [1. 0. 0. ... 0. 0. 0.]\n",
            " [0. 0. 0. ... 0. 0. 0.]\n",
            " [0. 0. 0. ... 0. 1. 0.]]\n",
            "\n",
            "labels:\n",
            " [[1 1 1 ... 0 0 0]]\n",
            "\n"
          ]
        }
      ]
    },
    {
      "cell_type": "markdown",
      "source": [
        "# Convolutional Neural Networks\n",
        "\n",
        "* Adapted from Marcel's Lecture 17"
      ],
      "metadata": {
        "id": "ZmMpl59A5nQy"
      }
    },
    {
      "cell_type": "code",
      "source": [
        "from sklearn.model_selection import train_test_split\n",
        "\n",
        "X_train, X_test, y_train, y_test = train_test_split(X, y, test_size=0.2, random_state=42)"
      ],
      "metadata": {
        "id": "54WbPtFO6AT9"
      },
      "execution_count": 58,
      "outputs": []
    },
    {
      "cell_type": "code",
      "source": [
        "from tensorflow.keras.layers import Conv1D, Dense, MaxPooling1D, Flatten, GlobalMaxPooling1D,Dropout\n",
        "from tensorflow.keras.models import Sequential\n",
        "\n",
        "# hyperparameters\n",
        "filters = 32 # was 32\n",
        "kernel_size = 5 # was 5\n",
        "num_conv_layers = 2 # was 2\n",
        "\n",
        "model = Sequential()\n",
        "for i in range(num_conv_layers - 1):\n",
        "    model.add(Conv1D(filters=filters, kernel_size=kernel_size, input_shape=(X_train.shape[1], 4), activation='relu'))\n",
        "    model.add(MaxPooling1D(pool_size=2))\n",
        "model.add(Conv1D(filters=filters, kernel_size=kernel_size, input_shape=(X_train.shape[1], 4), activation='relu'))\n",
        "model.add(GlobalMaxPooling1D())\n",
        "model.add(Dense(64, activation='relu', kernel_initializer=\"he_normal\"))\n",
        "model.add(Dropout(0.5))\n",
        "model.add(Dense(1, activation='sigmoid'))\n",
        "\n",
        "model.compile(loss='binary_crossentropy', optimizer='adam', metrics=['binary_accuracy'])\n",
        "\n",
        "model.summary()"
      ],
      "metadata": {
        "colab": {
          "base_uri": "https://localhost:8080/",
          "height": 391
        },
        "id": "IQOiGVKo8m7L",
        "outputId": "14c8a5e8-ad04-4191-dc1f-e0714ea0fa56"
      },
      "execution_count": 59,
      "outputs": [
        {
          "output_type": "display_data",
          "data": {
            "text/plain": [
              "\u001b[1mModel: \"sequential_13\"\u001b[0m\n"
            ],
            "text/html": [
              "<pre style=\"white-space:pre;overflow-x:auto;line-height:normal;font-family:Menlo,'DejaVu Sans Mono',consolas,'Courier New',monospace\"><span style=\"font-weight: bold\">Model: \"sequential_13\"</span>\n",
              "</pre>\n"
            ]
          },
          "metadata": {}
        },
        {
          "output_type": "display_data",
          "data": {
            "text/plain": [
              "┏━━━━━━━━━━━━━━━━━━━━━━━━━━━━━━━━━━━━━━┳━━━━━━━━━━━━━━━━━━━━━━━━━━━━━┳━━━━━━━━━━━━━━━━━┓\n",
              "┃\u001b[1m \u001b[0m\u001b[1mLayer (type)                        \u001b[0m\u001b[1m \u001b[0m┃\u001b[1m \u001b[0m\u001b[1mOutput Shape               \u001b[0m\u001b[1m \u001b[0m┃\u001b[1m \u001b[0m\u001b[1m        Param #\u001b[0m\u001b[1m \u001b[0m┃\n",
              "┡━━━━━━━━━━━━━━━━━━━━━━━━━━━━━━━━━━━━━━╇━━━━━━━━━━━━━━━━━━━━━━━━━━━━━╇━━━━━━━━━━━━━━━━━┩\n",
              "│ conv1d_27 (\u001b[38;5;33mConv1D\u001b[0m)                   │ (\u001b[38;5;45mNone\u001b[0m, \u001b[38;5;34m247\u001b[0m, \u001b[38;5;34m32\u001b[0m)             │             \u001b[38;5;34m672\u001b[0m │\n",
              "├──────────────────────────────────────┼─────────────────────────────┼─────────────────┤\n",
              "│ max_pooling1d_14 (\u001b[38;5;33mMaxPooling1D\u001b[0m)      │ (\u001b[38;5;45mNone\u001b[0m, \u001b[38;5;34m123\u001b[0m, \u001b[38;5;34m32\u001b[0m)             │               \u001b[38;5;34m0\u001b[0m │\n",
              "├──────────────────────────────────────┼─────────────────────────────┼─────────────────┤\n",
              "│ conv1d_28 (\u001b[38;5;33mConv1D\u001b[0m)                   │ (\u001b[38;5;45mNone\u001b[0m, \u001b[38;5;34m119\u001b[0m, \u001b[38;5;34m32\u001b[0m)             │           \u001b[38;5;34m5,152\u001b[0m │\n",
              "├──────────────────────────────────────┼─────────────────────────────┼─────────────────┤\n",
              "│ global_max_pooling1d_13              │ (\u001b[38;5;45mNone\u001b[0m, \u001b[38;5;34m32\u001b[0m)                  │               \u001b[38;5;34m0\u001b[0m │\n",
              "│ (\u001b[38;5;33mGlobalMaxPooling1D\u001b[0m)                 │                             │                 │\n",
              "├──────────────────────────────────────┼─────────────────────────────┼─────────────────┤\n",
              "│ dense_26 (\u001b[38;5;33mDense\u001b[0m)                     │ (\u001b[38;5;45mNone\u001b[0m, \u001b[38;5;34m64\u001b[0m)                  │           \u001b[38;5;34m2,112\u001b[0m │\n",
              "├──────────────────────────────────────┼─────────────────────────────┼─────────────────┤\n",
              "│ dropout_13 (\u001b[38;5;33mDropout\u001b[0m)                 │ (\u001b[38;5;45mNone\u001b[0m, \u001b[38;5;34m64\u001b[0m)                  │               \u001b[38;5;34m0\u001b[0m │\n",
              "├──────────────────────────────────────┼─────────────────────────────┼─────────────────┤\n",
              "│ dense_27 (\u001b[38;5;33mDense\u001b[0m)                     │ (\u001b[38;5;45mNone\u001b[0m, \u001b[38;5;34m1\u001b[0m)                   │              \u001b[38;5;34m65\u001b[0m │\n",
              "└──────────────────────────────────────┴─────────────────────────────┴─────────────────┘\n"
            ],
            "text/html": [
              "<pre style=\"white-space:pre;overflow-x:auto;line-height:normal;font-family:Menlo,'DejaVu Sans Mono',consolas,'Courier New',monospace\">┏━━━━━━━━━━━━━━━━━━━━━━━━━━━━━━━━━━━━━━┳━━━━━━━━━━━━━━━━━━━━━━━━━━━━━┳━━━━━━━━━━━━━━━━━┓\n",
              "┃<span style=\"font-weight: bold\"> Layer (type)                         </span>┃<span style=\"font-weight: bold\"> Output Shape                </span>┃<span style=\"font-weight: bold\">         Param # </span>┃\n",
              "┡━━━━━━━━━━━━━━━━━━━━━━━━━━━━━━━━━━━━━━╇━━━━━━━━━━━━━━━━━━━━━━━━━━━━━╇━━━━━━━━━━━━━━━━━┩\n",
              "│ conv1d_27 (<span style=\"color: #0087ff; text-decoration-color: #0087ff\">Conv1D</span>)                   │ (<span style=\"color: #00d7ff; text-decoration-color: #00d7ff\">None</span>, <span style=\"color: #00af00; text-decoration-color: #00af00\">247</span>, <span style=\"color: #00af00; text-decoration-color: #00af00\">32</span>)             │             <span style=\"color: #00af00; text-decoration-color: #00af00\">672</span> │\n",
              "├──────────────────────────────────────┼─────────────────────────────┼─────────────────┤\n",
              "│ max_pooling1d_14 (<span style=\"color: #0087ff; text-decoration-color: #0087ff\">MaxPooling1D</span>)      │ (<span style=\"color: #00d7ff; text-decoration-color: #00d7ff\">None</span>, <span style=\"color: #00af00; text-decoration-color: #00af00\">123</span>, <span style=\"color: #00af00; text-decoration-color: #00af00\">32</span>)             │               <span style=\"color: #00af00; text-decoration-color: #00af00\">0</span> │\n",
              "├──────────────────────────────────────┼─────────────────────────────┼─────────────────┤\n",
              "│ conv1d_28 (<span style=\"color: #0087ff; text-decoration-color: #0087ff\">Conv1D</span>)                   │ (<span style=\"color: #00d7ff; text-decoration-color: #00d7ff\">None</span>, <span style=\"color: #00af00; text-decoration-color: #00af00\">119</span>, <span style=\"color: #00af00; text-decoration-color: #00af00\">32</span>)             │           <span style=\"color: #00af00; text-decoration-color: #00af00\">5,152</span> │\n",
              "├──────────────────────────────────────┼─────────────────────────────┼─────────────────┤\n",
              "│ global_max_pooling1d_13              │ (<span style=\"color: #00d7ff; text-decoration-color: #00d7ff\">None</span>, <span style=\"color: #00af00; text-decoration-color: #00af00\">32</span>)                  │               <span style=\"color: #00af00; text-decoration-color: #00af00\">0</span> │\n",
              "│ (<span style=\"color: #0087ff; text-decoration-color: #0087ff\">GlobalMaxPooling1D</span>)                 │                             │                 │\n",
              "├──────────────────────────────────────┼─────────────────────────────┼─────────────────┤\n",
              "│ dense_26 (<span style=\"color: #0087ff; text-decoration-color: #0087ff\">Dense</span>)                     │ (<span style=\"color: #00d7ff; text-decoration-color: #00d7ff\">None</span>, <span style=\"color: #00af00; text-decoration-color: #00af00\">64</span>)                  │           <span style=\"color: #00af00; text-decoration-color: #00af00\">2,112</span> │\n",
              "├──────────────────────────────────────┼─────────────────────────────┼─────────────────┤\n",
              "│ dropout_13 (<span style=\"color: #0087ff; text-decoration-color: #0087ff\">Dropout</span>)                 │ (<span style=\"color: #00d7ff; text-decoration-color: #00d7ff\">None</span>, <span style=\"color: #00af00; text-decoration-color: #00af00\">64</span>)                  │               <span style=\"color: #00af00; text-decoration-color: #00af00\">0</span> │\n",
              "├──────────────────────────────────────┼─────────────────────────────┼─────────────────┤\n",
              "│ dense_27 (<span style=\"color: #0087ff; text-decoration-color: #0087ff\">Dense</span>)                     │ (<span style=\"color: #00d7ff; text-decoration-color: #00d7ff\">None</span>, <span style=\"color: #00af00; text-decoration-color: #00af00\">1</span>)                   │              <span style=\"color: #00af00; text-decoration-color: #00af00\">65</span> │\n",
              "└──────────────────────────────────────┴─────────────────────────────┴─────────────────┘\n",
              "</pre>\n"
            ]
          },
          "metadata": {}
        },
        {
          "output_type": "display_data",
          "data": {
            "text/plain": [
              "\u001b[1m Total params: \u001b[0m\u001b[38;5;34m8,001\u001b[0m (31.25 KB)\n"
            ],
            "text/html": [
              "<pre style=\"white-space:pre;overflow-x:auto;line-height:normal;font-family:Menlo,'DejaVu Sans Mono',consolas,'Courier New',monospace\"><span style=\"font-weight: bold\"> Total params: </span><span style=\"color: #00af00; text-decoration-color: #00af00\">8,001</span> (31.25 KB)\n",
              "</pre>\n"
            ]
          },
          "metadata": {}
        },
        {
          "output_type": "display_data",
          "data": {
            "text/plain": [
              "\u001b[1m Trainable params: \u001b[0m\u001b[38;5;34m8,001\u001b[0m (31.25 KB)\n"
            ],
            "text/html": [
              "<pre style=\"white-space:pre;overflow-x:auto;line-height:normal;font-family:Menlo,'DejaVu Sans Mono',consolas,'Courier New',monospace\"><span style=\"font-weight: bold\"> Trainable params: </span><span style=\"color: #00af00; text-decoration-color: #00af00\">8,001</span> (31.25 KB)\n",
              "</pre>\n"
            ]
          },
          "metadata": {}
        },
        {
          "output_type": "display_data",
          "data": {
            "text/plain": [
              "\u001b[1m Non-trainable params: \u001b[0m\u001b[38;5;34m0\u001b[0m (0.00 B)\n"
            ],
            "text/html": [
              "<pre style=\"white-space:pre;overflow-x:auto;line-height:normal;font-family:Menlo,'DejaVu Sans Mono',consolas,'Courier New',monospace\"><span style=\"font-weight: bold\"> Non-trainable params: </span><span style=\"color: #00af00; text-decoration-color: #00af00\">0</span> (0.00 B)\n",
              "</pre>\n"
            ]
          },
          "metadata": {}
        }
      ]
    },
    {
      "cell_type": "code",
      "source": [
        "history = model.fit(X_train, y_train, epochs=50, verbose=0, validation_split=0.1, batch_size=32)\n",
        "\n",
        "plt.figure()\n",
        "plt.plot(history.history['loss'])\n",
        "plt.plot(history.history['val_loss'])\n",
        "plt.title('model loss')\n",
        "plt.ylabel('loss')\n",
        "plt.xlabel('epoch')\n",
        "plt.legend(['train', 'validation'])\n",
        "plt.show()"
      ],
      "metadata": {
        "colab": {
          "base_uri": "https://localhost:8080/",
          "height": 472
        },
        "id": "uf03giTlTYV0",
        "outputId": "82c34da7-7e8a-491c-d5e5-a2a5bc2f8cd7"
      },
      "execution_count": 55,
      "outputs": [
        {
          "output_type": "display_data",
          "data": {
            "text/plain": [
              "<Figure size 640x480 with 1 Axes>"
            ],
            "image/png": "[encoded data removed]"
          },
          "metadata": {}
        }
      ]
    },
    {
      "cell_type": "code",
      "source": [
        "plt.figure()\n",
        "plt.plot(history.history['binary_accuracy'])\n",
        "plt.plot(history.history['val_binary_accuracy'])\n",
        "plt.title('model accuracy')\n",
        "plt.ylabel('accuracy')\n",
        "plt.xlabel('epoch')\n",
        "plt.legend(['train', 'validation'])\n",
        "plt.show()"
      ],
      "metadata": {
        "colab": {
          "base_uri": "https://localhost:8080/",
          "height": 472
        },
        "id": "PRzjeU--zDrm",
        "outputId": "d8ecf335-063e-4202-8673-e00b5d7e172c"
      },
      "execution_count": 56,
      "outputs": [
        {
          "output_type": "display_data",
          "data": {
            "text/plain": [
              "<Figure size 640x480 with 1 Axes>"
            ],
            "image/png": "[encoded data removed]"
          },
          "metadata": {}
        }
      ]
    },
    {
      "cell_type": "markdown",
      "source": [
        "**The best epoch is around 8 or 9.**"
      ],
      "metadata": {
        "id": "yYaq84hp4uF6"
      }
    },
    {
      "cell_type": "code",
      "source": [
        "# Retrain using epochs = 8\n",
        "\n",
        "history = model.fit(X_train, y_train, epochs=8, verbose=0, validation_split=0.1, batch_size=32)\n",
        "\n",
        "plt.figure()\n",
        "plt.plot(history.history['loss'])\n",
        "plt.plot(history.history['val_loss'])\n",
        "plt.title('model loss')\n",
        "plt.ylabel('loss')\n",
        "plt.xlabel('epoch')\n",
        "plt.legend(['train', 'validation'])\n",
        "plt.show()"
      ],
      "metadata": {
        "colab": {
          "base_uri": "https://localhost:8080/",
          "height": 472
        },
        "id": "YNkgEprT40Ab",
        "outputId": "ed7f795f-9505-4a0b-967d-d0561e5d3f5f"
      },
      "execution_count": 60,
      "outputs": [
        {
          "output_type": "display_data",
          "data": {
            "text/plain": [
              "<Figure size 640x480 with 1 Axes>"
            ],
            "image/png": "[encoded data removed]"
          },
          "metadata": {}
        }
      ]
    },
    {
      "cell_type": "code",
      "source": [
        "from sklearn.metrics import confusion_matrix\n",
        "\n",
        "y_pred = model.predict(np.stack(X_test))\n",
        "y_pred = (np.array(y_pred) >= 0.5).astype(int)\n",
        "\n",
        "print(classification_report(y_test, y_pred))\n",
        "\n",
        "cm = confusion_matrix(y_test, y_pred)\n",
        "\n",
        "sns.heatmap(cm, annot=True, fmt='d', cmap='Blues')\n",
        "plt.title(f'Confusion Matrix')\n",
        "plt.xlabel('Predicted')\n",
        "plt.ylabel('Actual')\n",
        "plt.show()"
      ],
      "metadata": {
        "colab": {
          "base_uri": "https://localhost:8080/",
          "height": 646
        },
        "id": "9nuSbuj7zJ_O",
        "outputId": "93a1d8ad-993f-4134-92ae-2d529a3e096f"
      },
      "execution_count": 61,
      "outputs": [
        {
          "output_type": "stream",
          "name": "stdout",
          "text": [
            "\u001b[1m118/118\u001b[0m \u001b[32m━━━━━━━━━━━━━━━━━━━━\u001b[0m\u001b[37m\u001b[0m \u001b[1m1s\u001b[0m 6ms/step\n",
            "              precision    recall  f1-score   support\n",
            "\n",
            "           0       0.91      0.93      0.92      2302\n",
            "           1       0.89      0.86      0.88      1470\n",
            "\n",
            "    accuracy                           0.90      3772\n",
            "   macro avg       0.90      0.90      0.90      3772\n",
            "weighted avg       0.90      0.90      0.90      3772\n",
            "\n"
          ]
        },
        {
          "output_type": "display_data",
          "data": {
            "text/plain": [
              "<Figure size 640x480 with 2 Axes>"
            ],
            "image/png": "[encoded data removed]"
          },
          "metadata": {}
        }
      ]
    },
    {
      "cell_type": "markdown",
      "source": [
        "## Discussion\n",
        "\n",
        "While hyperparameter tuning was not demonstrated empirically in this notebook, I have personally tested various hyperparameters such as:\n",
        "- Increasing/Decreasing the number of convolutional layers\n",
        "- Increasing/Decreasing the number of kernels per layer\n",
        "- Increasing/Decreasing filter sizes\n",
        "---\n",
        "The results show that:\n",
        "- High number of convolutional layers leads to overfitting, while low number of\n",
        "convolutional layers leads to underfitting.\n",
        "- High number of kernels leads to overfitting, while low number of\n",
        "kernels leads to underfitting.\n",
        "- Large filter sizes lead to overfitting, while small filter sizes lead to underfitting.\n",
        "---\n",
        "**Comments on the visuals**\n",
        "- Validation loss and accuracies tend to exhibit spiky progression, suggesting that a mix of lasso or ridge regularization can smoothen the curves.\n",
        "- The training peaks very early at epoch = 8, implying that overfitting occurs much more rapidly than ideal. Other models and alternative data encoding schemes may be explored and contrasted against the currently employed CNN architecture to produce significantly higher long-term accuracies and lower long-term losses.\n"
      ],
      "metadata": {
        "id": "uujFVZoz7zZK"
      }
    }
  ],
  "metadata": {
    "colab": {
      "provenance": [],
      "gpuType": "T4"
    },
    "kernelspec": {
      "display_name": "Python 3",
      "name": "python3"
    },
    "language_info": {
      "name": "python"
    },
    "accelerator": "GPU"
  },
  "nbformat": 4,
  "nbformat_minor": 0
}